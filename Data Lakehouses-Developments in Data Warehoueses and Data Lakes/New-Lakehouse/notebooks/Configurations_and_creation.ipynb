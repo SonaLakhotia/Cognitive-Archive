{
 "cells": [
  {
   "cell_type": "code",
   "execution_count": 3,
   "id": "7a88a518",
   "metadata": {},
   "outputs": [
    {
     "name": "stdout",
     "output_type": "stream",
     "text": [
      ":: loading settings :: url = jar:file:/home/docker/.local/lib/python3.10/site-packages/pyspark/jars/ivy-2.5.0.jar!/org/apache/ivy/core/settings/ivysettings.xml\n"
     ]
    },
    {
     "name": "stderr",
     "output_type": "stream",
     "text": [
      "Ivy Default Cache set to: /home/docker/.ivy2/cache\n",
      "The jars for the packages stored in: /home/docker/.ivy2/jars\n",
      "org.apache.iceberg#iceberg-spark-runtime-3.3_2.12 added as a dependency\n",
      "org.projectnessie.nessie-integrations#nessie-spark-extensions-3.3_2.12 added as a dependency\n",
      "software.amazon.awssdk#bundle added as a dependency\n",
      "software.amazon.awssdk#url-connection-client added as a dependency\n",
      ":: resolving dependencies :: org.apache.spark#spark-submit-parent-f0601cfb-cc41-4b45-b811-bb4bdf690974;1.0\n",
      "\tconfs: [default]\n",
      "\tfound org.apache.iceberg#iceberg-spark-runtime-3.3_2.12;1.3.1 in central\n",
      "\tfound org.projectnessie.nessie-integrations#nessie-spark-extensions-3.3_2.12;0.67.0 in central\n",
      "\tfound software.amazon.awssdk#bundle;2.17.178 in central\n",
      "\tfound software.amazon.eventstream#eventstream;1.0.1 in central\n",
      "\tfound software.amazon.awssdk#url-connection-client;2.17.178 in central\n",
      "\tfound software.amazon.awssdk#utils;2.17.178 in central\n",
      "\tfound org.reactivestreams#reactive-streams;1.0.3 in central\n",
      "\tfound software.amazon.awssdk#annotations;2.17.178 in central\n",
      "\tfound org.slf4j#slf4j-api;1.7.30 in central\n",
      "\tfound software.amazon.awssdk#http-client-spi;2.17.178 in central\n",
      "\tfound software.amazon.awssdk#metrics-spi;2.17.178 in central\n",
      ":: resolution report :: resolve 369ms :: artifacts dl 15ms\n",
      "\t:: modules in use:\n",
      "\torg.apache.iceberg#iceberg-spark-runtime-3.3_2.12;1.3.1 from central in [default]\n",
      "\torg.projectnessie.nessie-integrations#nessie-spark-extensions-3.3_2.12;0.67.0 from central in [default]\n",
      "\torg.reactivestreams#reactive-streams;1.0.3 from central in [default]\n",
      "\torg.slf4j#slf4j-api;1.7.30 from central in [default]\n",
      "\tsoftware.amazon.awssdk#annotations;2.17.178 from central in [default]\n",
      "\tsoftware.amazon.awssdk#bundle;2.17.178 from central in [default]\n",
      "\tsoftware.amazon.awssdk#http-client-spi;2.17.178 from central in [default]\n",
      "\tsoftware.amazon.awssdk#metrics-spi;2.17.178 from central in [default]\n",
      "\tsoftware.amazon.awssdk#url-connection-client;2.17.178 from central in [default]\n",
      "\tsoftware.amazon.awssdk#utils;2.17.178 from central in [default]\n",
      "\tsoftware.amazon.eventstream#eventstream;1.0.1 from central in [default]\n",
      "\t---------------------------------------------------------------------\n",
      "\t|                  |            modules            ||   artifacts   |\n",
      "\t|       conf       | number| search|dwnlded|evicted|| number|dwnlded|\n",
      "\t---------------------------------------------------------------------\n",
      "\t|      default     |   11  |   0   |   0   |   0   ||   11  |   0   |\n",
      "\t---------------------------------------------------------------------\n",
      ":: retrieving :: org.apache.spark#spark-submit-parent-f0601cfb-cc41-4b45-b811-bb4bdf690974\n",
      "\tconfs: [default]\n",
      "\t0 artifacts copied, 11 already retrieved (0kB/11ms)\n"
     ]
    },
    {
     "name": "stdout",
     "output_type": "stream",
     "text": [
      "24/02/05 05:47:26 WARN NativeCodeLoader: Unable to load native-hadoop library for your platform... using builtin-java classes where applicable\n"
     ]
    },
    {
     "name": "stderr",
     "output_type": "stream",
     "text": [
      "Setting default log level to \"WARN\".\n",
      "To adjust logging level use sc.setLogLevel(newLevel). For SparkR, use setLogLevel(newLevel).\n"
     ]
    },
    {
     "name": "stdout",
     "output_type": "stream",
     "text": [
      "Spark Running\n"
     ]
    },
    {
     "name": "stderr",
     "output_type": "stream",
     "text": [
      "SLF4J: Failed to load class \"org.slf4j.impl.StaticLoggerBinder\".\n",
      "SLF4J: Defaulting to no-operation (NOP) logger implementation\n",
      "SLF4J: See http://www.slf4j.org/codes.html#StaticLoggerBinder for further details.\n"
     ]
    },
    {
     "name": "stdout",
     "output_type": "stream",
     "text": [
      "++\n",
      "||\n",
      "++\n",
      "++\n",
      "\n"
     ]
    },
    {
     "name": "stderr",
     "output_type": "stream",
     "text": [
      "                                                                                \r"
     ]
    },
    {
     "name": "stdout",
     "output_type": "stream",
     "text": [
      "++\n",
      "||\n",
      "++\n",
      "++\n",
      "\n",
      "+----+\n",
      "|name|\n",
      "+----+\n",
      "|test|\n",
      "+----+\n",
      "\n"
     ]
    }
   ],
   "source": [
    "import pyspark\n",
    "from pyspark.sql import SparkSession\n",
    "import os\n",
    "\n",
    "## DEFINE SENSITIVE VARIABLES\n",
    "NESSIE_URI = os.environ.get(\"NESSIE_URI\") ## Nessie Server URI\n",
    "WAREHOUSE = os.environ.get(\"WAREHOUSE\") ## BUCKET TO WRITE DATA TOO\n",
    "AWS_ACCESS_KEY = os.environ.get(\"AWS_ACCESS_KEY\") ## AWS CREDENTIALS\n",
    "AWS_SECRET_KEY = os.environ.get(\"AWS_SECRET_KEY\") ## AWS CREDENTIALS\n",
    "AWS_S3_ENDPOINT= os.environ.get(\"AWS_S3_ENDPOINT\") ## MINIO ENDPOINT\n",
    "\n",
    "conf = (\n",
    "    pyspark.SparkConf()\n",
    "        .setAppName('app_name')\n",
    "        .set('spark.jars.packages', 'org.apache.iceberg:iceberg-spark-runtime-3.3_2.12:1.3.1,org.projectnessie.nessie-integrations:nessie-spark-extensions-3.3_2.12:0.67.0,software.amazon.awssdk:bundle:2.17.178,software.amazon.awssdk:url-connection-client:2.17.178')\n",
    "        .set('spark.sql.extensions', 'org.apache.iceberg.spark.extensions.IcebergSparkSessionExtensions,org.projectnessie.spark.extensions.NessieSparkSessionExtensions')\n",
    "        .set('spark.sql.catalog.nessie', 'org.apache.iceberg.spark.SparkCatalog')\n",
    "        .set('spark.sql.catalog.nessie.uri', NESSIE_URI)\n",
    "        .set('spark.sql.catalog.nessie.ref', 'main')\n",
    "        .set('spark.sql.catalog.nessie.authentication.type', 'NONE')\n",
    "        .set('spark.sql.catalog.nessie.catalog-impl', 'org.apache.iceberg.nessie.NessieCatalog')\n",
    "        .set('spark.sql.catalog.nessie.s3.endpoint', AWS_S3_ENDPOINT)\n",
    "        .set('spark.sql.catalog.nessie.warehouse', WAREHOUSE)\n",
    "        .set('spark.sql.catalog.nessie.io-impl', 'org.apache.iceberg.aws.s3.S3FileIO')\n",
    "        .set('spark.hadoop.fs.s3a.access.key', AWS_ACCESS_KEY)\n",
    "        .set('spark.hadoop.fs.s3a.secret.key', AWS_SECRET_KEY)\n",
    ")\n",
    "\n",
    "\n",
    "## Start Spark Session\n",
    "spark = SparkSession.builder.config(conf=conf).getOrCreate()\n",
    "print(\"Spark Running\")\n",
    "\n",
    "\n",
    "## Test Run a Query\n",
    "spark.sql(\"CREATE TABLE IF NOT EXISTS nessie.test1 (name string) USING iceberg;\").show()\n",
    "spark.sql(\"INSERT INTO nessie.test1 VALUES ('test');\").show()\n",
    "spark.sql(\"SELECT * FROM nessie.test1;\").show()"
   ]
  },
  {
   "cell_type": "code",
   "execution_count": 7,
   "id": "8e01a1a8",
   "metadata": {
    "scrolled": true
   },
   "outputs": [
    {
     "name": "stdout",
     "output_type": "stream",
     "text": [
      "++\n",
      "||\n",
      "++\n",
      "++\n",
      "\n",
      "+-----------+---------------+---------+---------------+-------+---------------+-------+------+--------+-------+-----------+----+-----------+--------------------+----------------+--------------------+------------+-------------+-----+----------+-------+---------+---------------+----------------+--------+\n",
      "|ORDERNUMBER|QUANTITYORDERED|PRICEEACH|ORDERLINENUMBER|  SALES|      ORDERDATE| STATUS|QTR_ID|MONTH_ID|YEAR_ID|PRODUCTLINE|MSRP|PRODUCTCODE|        CUSTOMERNAME|           PHONE|        ADDRESSLINE1|ADDRESSLINE2|         CITY|STATE|POSTALCODE|COUNTRY|TERRITORY|CONTACTLASTNAME|CONTACTFIRSTNAME|DEALSIZE|\n",
      "+-----------+---------------+---------+---------------+-------+---------------+-------+------+--------+-------+-----------+----+-----------+--------------------+----------------+--------------------+------------+-------------+-----+----------+-------+---------+---------------+----------------+--------+\n",
      "|      10107|             30|     95.7|              2|   2871| 2/24/2003 0:00|Shipped|     1|       2|   2003|Motorcycles|  95|   S10_1678|   Land of Toys Inc.|      2125557818|897 Long Airport ...|        null|          NYC|   NY|     10022|    USA|       NA|             Yu|            Kwai|   Small|\n",
      "|      10121|             34|    81.35|              5| 2765.9|  5/7/2003 0:00|Shipped|     2|       5|   2003|Motorcycles|  95|   S10_1678|  Reims Collectables|      26.47.1555|  59 rue de l'Abbaye|        null|        Reims| null|     51100| France|     EMEA|        Henriot|            Paul|   Small|\n",
      "|      10134|             41|    94.74|              2|3884.34|  7/1/2003 0:00|Shipped|     3|       7|   2003|Motorcycles|  95|   S10_1678|     Lyon Souveniers|+33 1 46 62 7555|27 rue du Colonel...|        null|        Paris| null|     75508| France|     EMEA|       Da Cunha|          Daniel|  Medium|\n",
      "|      10145|             45|    83.26|              6| 3746.7| 8/25/2003 0:00|Shipped|     3|       8|   2003|Motorcycles|  95|   S10_1678|   Toys4GrownUps.com|      6265557265|  78934 Hillside Dr.|        null|     Pasadena|   CA|     90003|    USA|       NA|          Young|           Julie|  Medium|\n",
      "|      10159|             49|      100|             14|5205.27|10/10/2003 0:00|Shipped|     4|      10|   2003|Motorcycles|  95|   S10_1678|Corporate Gift Id...|      6505551386|     7734 Strong St.|        null|San Francisco|   CA|      null|    USA|       NA|          Brown|           Julie|  Medium|\n",
      "|      10168|             36|    96.66|              1|3479.76|10/28/2003 0:00|Shipped|     4|      10|   2003|Motorcycles|  95|   S10_1678|Technics Stores Inc.|      6505556809|   9408 Furth Circle|        null|   Burlingame|   CA|     94217|    USA|       NA|         Hirano|            Juri|  Medium|\n",
      "|      10180|             29|    86.13|              9|2497.77|11/11/2003 0:00|Shipped|     4|      11|   2003|Motorcycles|  95|   S10_1678|Daedalus Designs ...|      20.16.1555|184, chausse de T...|        null|        Lille| null|     59000| France|     EMEA|          Rance|         Martine|   Small|\n",
      "|      10188|             48|      100|              1|5512.32|11/18/2003 0:00|Shipped|     4|      11|   2003|Motorcycles|  95|   S10_1678|        Herkku Gifts|   +47 2267 3215|Drammen 121, PR 7...|        null|       Bergen| null|    N 5804| Norway|     EMEA|         Oeztan|          Veysel|  Medium|\n",
      "|      10201|             22|    98.57|              2|2168.54| 12/1/2003 0:00|Shipped|     4|      12|   2003|Motorcycles|  95|   S10_1678|     Mini Wheels Co.|      6505555787|5557 North Pendal...|        null|San Francisco|   CA|      null|    USA|       NA|         Murphy|           Julie|   Small|\n",
      "|      10211|             41|      100|             14|4708.44| 1/15/2004 0:00|Shipped|     1|       1|   2004|Motorcycles|  95|   S10_1678|    Auto Canal Petit|  (1) 47.55.6555|   25, rue Lauriston|        null|        Paris| null|     75016| France|     EMEA|        Perrier|       Dominique|  Medium|\n",
      "+-----------+---------------+---------+---------------+-------+---------------+-------+------+--------+-------+-----------+----+-----------+--------------------+----------------+--------------------+------------+-------------+-----+----------+-------+---------+---------------+----------------+--------+\n",
      "\n"
     ]
    }
   ],
   "source": [
    "## LOAD A CSV INTO AN SQL VIEW\n",
    "csv_df = spark.read.format(\"csv\").option(\"header\", \"true\").load(\"../datasets/sales_data_sample.csv\")\n",
    "csv_df.createOrReplaceTempView(\"sales_data\")\n",
    "\n",
    "## CREATE AN ICEBERG TABLE FROM THE SQL VIEW\n",
    "spark.sql(\"CREATE TABLE IF NOT EXISTS nessie.sales USING iceberg AS SELECT * FROM sales_data;\").show()\n",
    "\n",
    "## QUERY THE ICEBERG TABLE\n",
    "spark.sql(\"SELECT * FROM nessie.sales limit 10;\").show()"
   ]
  },
  {
   "cell_type": "code",
   "execution_count": 8,
   "id": "bdec9cfa",
   "metadata": {},
   "outputs": [
    {
     "name": "stdout",
     "output_type": "stream",
     "text": [
      "+-----+\n",
      "|Total|\n",
      "+-----+\n",
      "| 2823|\n",
      "+-----+\n",
      "\n"
     ]
    },
    {
     "data": {
      "text/plain": [
       "DataFrame[refType: string, name: string, hash: string]"
      ]
     },
     "execution_count": 8,
     "metadata": {},
     "output_type": "execute_result"
    }
   ],
   "source": [
    "# Demonstration of zero copy experimentation using nessie \n",
    "\n",
    "## QUERY THE COUNT OF ENTRIES\n",
    "spark.sql(\"SELECT Count(*) as Total FROM nessie.sales\").show()\n",
    "\n",
    "## CREATE A BRANCH WITH NESSIE\n",
    "spark.sql(\"CREATE BRANCH IF NOT EXISTS demo IN nessie\")\n",
    "\n",
    "## SWTICH TO THE NEW BRANCH\n",
    "spark.sql(\"USE REFERENCE demo IN nessie\")"
   ]
  },
  {
   "cell_type": "code",
   "execution_count": 9,
   "id": "f398de95",
   "metadata": {},
   "outputs": [
    {
     "name": "stdout",
     "output_type": "stream",
     "text": [
      "24/02/05 05:48:41 WARN package: Truncated the string representation of a plan since it was too large. This behavior can be adjusted by setting 'spark.sql.debug.maxToStringFields'.\n"
     ]
    },
    {
     "name": "stderr",
     "output_type": "stream",
     "text": [
      "                                                                                \r"
     ]
    },
    {
     "name": "stdout",
     "output_type": "stream",
     "text": [
      "+-----+\n",
      "|Total|\n",
      "+-----+\n",
      "| 2509|\n",
      "+-----+\n",
      "\n"
     ]
    }
   ],
   "source": [
    "## DELETE ALL RECORDS WHERE countryOfOriginCode = 'FR'\n",
    "spark.sql(\"DELETE FROM nessie.sales WHERE COUNTRY = 'France'\")\n",
    "\n",
    "## QUERY THE COUNT OF ENTRIES\n",
    "spark.sql(\"SELECT Count(*) as Total FROM nessie.sales\").show()"
   ]
  },
  {
   "cell_type": "code",
   "execution_count": 10,
   "id": "54bf6a0b",
   "metadata": {},
   "outputs": [
    {
     "name": "stdout",
     "output_type": "stream",
     "text": [
      "+-----+\n",
      "|Total|\n",
      "+-----+\n",
      "| 2823|\n",
      "+-----+\n",
      "\n"
     ]
    }
   ],
   "source": [
    "## SWITCH BACK TO MAIN BRANCH\n",
    "spark.sql(\"USE REFERENCE main IN nessie\")\n",
    "\n",
    "## QUERY THE COUNT OF ENTRIES\n",
    "spark.sql(\"SELECT Count(*) as Total FROM nessie.sales\").show()"
   ]
  },
  {
   "cell_type": "code",
   "execution_count": 11,
   "id": "34cb029d",
   "metadata": {},
   "outputs": [
    {
     "name": "stdout",
     "output_type": "stream",
     "text": [
      "+-----+\n",
      "|Total|\n",
      "+-----+\n",
      "| 2823|\n",
      "+-----+\n",
      "\n"
     ]
    }
   ],
   "source": [
    "## MERGE THE CHANGES\n",
    "spark.sql(\"MERGE BRANCH demo INTO main IN nessie\")\n",
    "\n",
    "## QUERY THE COUNT OF ENTRIES\n",
    "spark.sql(\"SELECT Count(*) as Total FROM nessie.sales\").show()"
   ]
  },
  {
   "cell_type": "code",
   "execution_count": 17,
   "id": "6a39908a",
   "metadata": {},
   "outputs": [
    {
     "name": "stderr",
     "output_type": "stream",
     "text": [
      "                                                                                \r"
     ]
    },
    {
     "data": {
      "text/plain": [
       "DataFrame[]"
      ]
     },
     "execution_count": 17,
     "metadata": {},
     "output_type": "execute_result"
    }
   ],
   "source": [
    "# Performing update\n",
    "\n",
    "spark.sql(\"UPDATE nessie.sales SET PRODUCTLINE = 'Books' where COUNTRY = 'Norway'\")"
   ]
  },
  {
   "cell_type": "code",
   "execution_count": 19,
   "id": "a6e2b182",
   "metadata": {},
   "outputs": [
    {
     "name": "stdout",
     "output_type": "stream",
     "text": [
      "+-----------+---------------+---------+---------------+-------+---------------+-------+------+--------+-------+-----------+----+-----------+------------------+-------------+--------------------+------------+-------+-----+----------+-------+---------+---------------+----------------+--------+\n",
      "|ORDERNUMBER|QUANTITYORDERED|PRICEEACH|ORDERLINENUMBER|  SALES|      ORDERDATE| STATUS|QTR_ID|MONTH_ID|YEAR_ID|PRODUCTLINE|MSRP|PRODUCTCODE|      CUSTOMERNAME|        PHONE|        ADDRESSLINE1|ADDRESSLINE2|   CITY|STATE|POSTALCODE|COUNTRY|TERRITORY|CONTACTLASTNAME|CONTACTFIRSTNAME|DEALSIZE|\n",
      "+-----------+---------------+---------+---------------+-------+---------------+-------+------+--------+-------+-----------+----+-----------+------------------+-------------+--------------------+------------+-------+-----+----------+-------+---------+---------------+----------------+--------+\n",
      "|      10188|             48|      100|              1|5512.32|11/18/2003 0:00|Shipped|     4|      11|   2003|      Books|  95|   S10_1678|      Herkku Gifts|+47 2267 3215|Drammen 121, PR 7...|        null| Bergen| null|    N 5804| Norway|     EMEA|         Oeztan|          Veysel|  Medium|\n",
      "|      10309|             41|      100|              5|4394.38|10/15/2004 0:00|Shipped|     4|      10|   2004|      Books|  95|   S10_1678|Baane Mini Imports|   07-98 9555|Erling Skakkes ga...|        null|Stavern| null|      4110| Norway|     EMEA|     Bergulfsen|           Jonas|  Medium|\n",
      "|      10103|             26|      100|             11|5404.62| 1/29/2003 0:00|Shipped|     1|       1|   2003|      Books| 214|   S10_1949|Baane Mini Imports|   07-98 9555|Erling Skakkes ga...|        null|Stavern| null|      4110| Norway|     EMEA|     Bergulfsen|           Jonas|  Medium|\n",
      "|      10188|             38|    96.34|              4|3660.92|11/18/2003 0:00|Shipped|     4|      11|   2003|      Books| 118|   S10_2016|      Herkku Gifts|+47 2267 3215|Drammen 121, PR 7...|        null| Bergen| null|    N 5804| Norway|     EMEA|         Oeztan|          Veysel|  Medium|\n",
      "|      10188|             45|      100|              3| 8714.7|11/18/2003 0:00|Shipped|     4|      11|   2003|      Books| 193|   S10_4698|      Herkku Gifts|+47 2267 3215|Drammen 121, PR 7...|        null| Bergen| null|    N 5804| Norway|     EMEA|         Oeztan|          Veysel|   Large|\n",
      "|      10325|             47|    64.93|              6|3051.71| 11/5/2004 0:00|Shipped|     4|      11|   2004|      Books| 136|   S10_4757|Baane Mini Imports|   07-98 9555|Erling Skakkes ga...|        null|Stavern| null|      4110| Norway|     EMEA|     Bergulfsen|           Jonas|  Medium|\n",
      "|      10103|             42|      100|              4|5398.26| 1/29/2003 0:00|Shipped|     1|       1|   2003|      Books| 147|   S10_4962|Baane Mini Imports|   07-98 9555|Erling Skakkes ga...|        null|Stavern| null|      4110| Norway|     EMEA|     Bergulfsen|           Jonas|  Medium|\n",
      "|      10181|             27|      100|             14|5411.07|11/12/2003 0:00|Shipped|     4|      11|   2003|      Books| 194|   S12_1099|      Herkku Gifts|+47 2267 3215|Drammen 121, PR 7...|        null| Bergen| null|    N 5804| Norway|     EMEA|         Oeztan|          Veysel|  Medium|\n",
      "|      10325|             42|       64|              8|   2688| 11/5/2004 0:00|Shipped|     4|      11|   2004|      Books| 207|   S12_1108|Baane Mini Imports|   07-98 9555|Erling Skakkes ga...|        null|Stavern| null|      4110| Norway|     EMEA|     Bergulfsen|           Jonas|   Small|\n",
      "|      10103|             27|      100|              8|3394.98| 1/29/2003 0:00|Shipped|     1|       1|   2003|      Books| 136|   S12_1666|Baane Mini Imports|   07-98 9555|Erling Skakkes ga...|        null|Stavern| null|      4110| Norway|     EMEA|     Bergulfsen|           Jonas|  Medium|\n",
      "+-----------+---------------+---------+---------------+-------+---------------+-------+------+--------+-------+-----------+----+-----------+------------------+-------------+--------------------+------------+-------+-----+----------+-------+---------+---------------+----------------+--------+\n",
      "\n"
     ]
    }
   ],
   "source": [
    "## QUERY THE ICEBERG TABLE\n",
    "spark.sql(\"SELECT * FROM nessie.sales where COUNTRY ='Norway' limit 10;\").show()"
   ]
  },
  {
   "cell_type": "code",
   "execution_count": null,
   "id": "b7131c4a",
   "metadata": {},
   "outputs": [],
   "source": []
  },
  {
   "cell_type": "code",
   "execution_count": 26,
   "id": "e2d71d4f",
   "metadata": {},
   "outputs": [
    {
     "name": "stdout",
     "output_type": "stream",
     "text": [
      "+--------------------+-------------------+-------------------+-------------------+\n",
      "|     made_current_at|        snapshot_id|          parent_id|is_current_ancestor|\n",
      "+--------------------+-------------------+-------------------+-------------------+\n",
      "|2024-02-05 05:48:...|2863199929315987761|               null|               true|\n",
      "|2024-02-05 05:48:...| 319468681545983666|2863199929315987761|               true|\n",
      "|2024-02-05 06:07:...|8967947541697229411| 319468681545983666|               true|\n",
      "|2024-02-05 06:10:...|3709300837485886423|8967947541697229411|               true|\n",
      "+--------------------+-------------------+-------------------+-------------------+\n",
      "\n"
     ]
    }
   ],
   "source": [
    "spark.sql(\"SELECT * FROM nessie.sales.history\").show()"
   ]
  },
  {
   "cell_type": "code",
   "execution_count": 27,
   "id": "4d7b4759",
   "metadata": {},
   "outputs": [
    {
     "name": "stdout",
     "output_type": "stream",
     "text": [
      "+--------------------+-------------------+-------------------+---------+--------------------+--------------------+\n",
      "|        committed_at|        snapshot_id|          parent_id|operation|       manifest_list|             summary|\n",
      "+--------------------+-------------------+-------------------+---------+--------------------+--------------------+\n",
      "|2024-02-05 05:48:...|2863199929315987761|               null|   append|s3a://warehouse//...|{spark.app.id -> ...|\n",
      "|2024-02-05 05:48:...| 319468681545983666|2863199929315987761|overwrite|s3a://warehouse//...|{spark.app.id -> ...|\n",
      "|2024-02-05 06:07:...|8967947541697229411| 319468681545983666|overwrite|s3a://warehouse//...|{spark.app.id -> ...|\n",
      "|2024-02-05 06:10:...|3709300837485886423|8967947541697229411|overwrite|s3a://warehouse//...|{spark.app.id -> ...|\n",
      "+--------------------+-------------------+-------------------+---------+--------------------+--------------------+\n",
      "\n"
     ]
    }
   ],
   "source": [
    "spark.sql(\"SELECT * FROM nessie.sales.snapshots\").show()"
   ]
  },
  {
   "cell_type": "code",
   "execution_count": 28,
   "id": "2527bbae",
   "metadata": {},
   "outputs": [
    {
     "name": "stdout",
     "output_type": "stream",
     "text": [
      "+-------+--------------------+-----------+-------+------------+------------------+--------------------+--------------------+--------------------+----------------+--------------------+--------------------+------------+-------------+------------+-------------+--------------------+\n",
      "|content|           file_path|file_format|spec_id|record_count|file_size_in_bytes|        column_sizes|        value_counts|   null_value_counts|nan_value_counts|        lower_bounds|        upper_bounds|key_metadata|split_offsets|equality_ids|sort_order_id|    readable_metrics|\n",
      "+-------+--------------------+-----------+-------+------------+------------------+--------------------+--------------------+--------------------+----------------+--------------------+--------------------+------------+-------------+------------+-------------+--------------------+\n",
      "|      0|s3a://warehouse//...|    PARQUET|      0|        2509|             55849|{1 -> 3196, 2 -> ...|{1 -> 2509, 2 -> ...|{1 -> 0, 2 -> 0, ...|              {}|{1 -> 10100, 2 ->...|{1 -> 10424, 2 ->...|        null|          [4]|        null|            0|{{3160, 2509, 0, ...|\n",
      "+-------+--------------------+-----------+-------+------------+------------------+--------------------+--------------------+--------------------+----------------+--------------------+--------------------+------------+-------------+------------+-------------+--------------------+\n",
      "\n"
     ]
    }
   ],
   "source": [
    "spark.sql(\"SELECT * FROM nessie.sales.files\").show()"
   ]
  },
  {
   "cell_type": "code",
   "execution_count": 35,
   "id": "6b94a00d",
   "metadata": {},
   "outputs": [
    {
     "name": "stdout",
     "output_type": "stream",
     "text": [
      "+-----------+---------------+---------+---------------+-------+---------------+--------+------+--------+-------+-----------+----+-----------+--------------------+---------------+--------------------+------------+-------------+--------+----------+---------+---------+---------------+----------------+--------+\n",
      "|ORDERNUMBER|QUANTITYORDERED|PRICEEACH|ORDERLINENUMBER|  SALES|      ORDERDATE|  STATUS|QTR_ID|MONTH_ID|YEAR_ID|PRODUCTLINE|MSRP|PRODUCTCODE|        CUSTOMERNAME|          PHONE|        ADDRESSLINE1|ADDRESSLINE2|         CITY|   STATE|POSTALCODE|  COUNTRY|TERRITORY|CONTACTLASTNAME|CONTACTFIRSTNAME|DEALSIZE|\n",
      "+-----------+---------------+---------+---------------+-------+---------------+--------+------+--------+-------+-----------+----+-----------+--------------------+---------------+--------------------+------------+-------------+--------+----------+---------+---------+---------------+----------------+--------+\n",
      "|      10107|             30|     95.7|              2|   2871| 2/24/2003 0:00| Shipped|     1|       2|   2003|Motorcycles|  95|   S10_1678|   Land of Toys Inc.|     2125557818|897 Long Airport ...|        null|          NYC|      NY|     10022|      USA|       NA|             Yu|            Kwai|   Small|\n",
      "|      10145|             45|    83.26|              6| 3746.7| 8/25/2003 0:00| Shipped|     3|       8|   2003|Motorcycles|  95|   S10_1678|   Toys4GrownUps.com|     6265557265|  78934 Hillside Dr.|        null|     Pasadena|      CA|     90003|      USA|       NA|          Young|           Julie|  Medium|\n",
      "|      10159|             49|      100|             14|5205.27|10/10/2003 0:00| Shipped|     4|      10|   2003|Motorcycles|  95|   S10_1678|Corporate Gift Id...|     6505551386|     7734 Strong St.|        null|San Francisco|      CA|      null|      USA|       NA|          Brown|           Julie|  Medium|\n",
      "|      10168|             36|    96.66|              1|3479.76|10/28/2003 0:00| Shipped|     4|      10|   2003|Motorcycles|  95|   S10_1678|Technics Stores Inc.|     6505556809|   9408 Furth Circle|        null|   Burlingame|      CA|     94217|      USA|       NA|         Hirano|            Juri|  Medium|\n",
      "|      10188|             48|      100|              1|5512.32|11/18/2003 0:00| Shipped|     4|      11|   2003|Motorcycles|  95|   S10_1678|        Herkku Gifts|  +47 2267 3215|Drammen 121, PR 7...|        null|       Bergen|    null|    N 5804|   Norway|     EMEA|         Oeztan|          Veysel|  Medium|\n",
      "|      10201|             22|    98.57|              2|2168.54| 12/1/2003 0:00| Shipped|     4|      12|   2003|Motorcycles|  95|   S10_1678|     Mini Wheels Co.|     6505555787|5557 North Pendal...|        null|San Francisco|      CA|      null|      USA|       NA|         Murphy|           Julie|   Small|\n",
      "|      10223|             37|      100|              1|3965.66| 2/20/2004 0:00| Shipped|     1|       2|   2004|Motorcycles|  95|   S10_1678|Australian Collec...|   03 9520 4555|   636 St Kilda Road|     Level 3|    Melbourne|Victoria|      3004|Australia|     APAC|       Ferguson|           Peter|  Medium|\n",
      "|      10237|             23|      100|              7|2333.12|  4/5/2004 0:00| Shipped|     2|       4|   2004|Motorcycles|  95|   S10_1678|     Vitachrome Inc.|     2125551500|   2678 Kingston Rd.|   Suite 101|          NYC|      NY|     10022|      USA|       NA|          Frick|         Michael|   Small|\n",
      "|      10251|             28|      100|              2|3188.64| 5/18/2004 0:00| Shipped|     2|       5|   2004|Motorcycles|  95|   S10_1678|Tekni Collectable...|     2015559350|       7476 Moss Rd.|        null|       Newark|      NJ|     94019|      USA|       NA|          Brown|         William|  Medium|\n",
      "|      10263|             34|      100|              2|3676.76| 6/28/2004 0:00| Shipped|     2|       6|   2004|Motorcycles|  95|   S10_1678|     Gift Depot Inc.|     2035552570| 25593 South Bay Ln.|        null|  Bridgewater|      CT|     97562|      USA|       NA|           King|           Julie|  Medium|\n",
      "|      10285|             36|      100|              6|4099.68| 8/27/2004 0:00| Shipped|     3|       8|   2004|Motorcycles|  95|   S10_1678|Marta's Replicas Co.|     6175558555| 39323 Spinnaker Dr.|        null|    Cambridge|      MA|     51247|      USA|       NA|      Hernandez|           Marta|  Medium|\n",
      "|      10299|             23|      100|              9|2597.39| 9/30/2004 0:00| Shipped|     3|       9|   2004|Motorcycles|  95|   S10_1678|Toys of Finland, Co.|    90-224 8555|       Keskuskatu 45|        null|     Helsinki|    null|     21240|  Finland|     EMEA|      Karttunen|           Matti|   Small|\n",
      "|      10309|             41|      100|              5|4394.38|10/15/2004 0:00| Shipped|     4|      10|   2004|Motorcycles|  95|   S10_1678|  Baane Mini Imports|     07-98 9555|Erling Skakkes ga...|        null|      Stavern|    null|      4110|   Norway|     EMEA|     Bergulfsen|           Jonas|  Medium|\n",
      "|      10318|             46|    94.74|              1|4358.04| 11/2/2004 0:00| Shipped|     4|      11|   2004|Motorcycles|  95|   S10_1678|Diecast Classics ...|     2155551555|    7586 Pompton St.|        null|    Allentown|      PA|     70267|      USA|       NA|             Yu|           Kyung|  Medium|\n",
      "|      10329|             42|      100|              1|4396.14|11/15/2004 0:00| Shipped|     4|      11|   2004|Motorcycles|  95|   S10_1678|   Land of Toys Inc.|     2125557818|897 Long Airport ...|        null|          NYC|      NY|     10022|      USA|       NA|             Yu|            Kwai|  Medium|\n",
      "|      10341|             41|      100|              9|7737.93|11/24/2004 0:00| Shipped|     4|      11|   2004|Motorcycles|  95|   S10_1678|Salzburg Collecta...|      6562-9555|         Geislweg 14|        null|     Salzburg|    null|      5020|  Austria|     EMEA|          Pipps|           Georg|   Large|\n",
      "|      10361|             20|    72.55|             13|   1451|12/17/2004 0:00| Shipped|     4|      12|   2004|Motorcycles|  95|   S10_1678|Souveniers And Th...|+61 2 9495 8555|Monitor Money Bui...|     Level 6|    Chatswood|     NSW|      2067|Australia|     APAC|         Huxley|          Adrian|   Small|\n",
      "|      10388|             42|    76.36|              4|3207.12|  3/3/2005 0:00| Shipped|     1|       3|   2005|Motorcycles|  95|   S10_1678|    FunGiftIdeas.com|     5085552555|   1785 First Street|        null|  New Bedford|      MA|     50553|      USA|       NA|        Benitez|         Violeta|  Medium|\n",
      "|      10403|             24|      100|              7|2434.56|  4/8/2005 0:00| Shipped|     2|       4|   2005|Motorcycles|  95|   S10_1678|UK Collectables, ...| (171) 555-2282|Berkeley Gardens ...|        null|    Liverpool|    null|   WX1 6LT|       UK|     EMEA|          Devon|       Elizabeth|   Small|\n",
      "|      10417|             66|      100|              2|7516.08| 5/13/2005 0:00|Disputed|     2|       5|   2005|Motorcycles|  95|   S10_1678|Euro Shopping Cha...| (91) 555 94 44|  C/ Moralzarzal, 86|        null|       Madrid|    null|     28034|    Spain|     EMEA|         Freyre|           Diego|   Large|\n",
      "+-----------+---------------+---------+---------------+-------+---------------+--------+------+--------+-------+-----------+----+-----------+--------------------+---------------+--------------------+------------+-------------+--------+----------+---------+---------+---------------+----------------+--------+\n",
      "only showing top 20 rows\n",
      "\n"
     ]
    }
   ],
   "source": [
    "spark.sql(\"SELECT * FROM nessie.sales TIMESTAMP AS OF '2024-02-05 06:10' \").show()"
   ]
  },
  {
   "cell_type": "code",
   "execution_count": null,
   "id": "85481245",
   "metadata": {},
   "outputs": [],
   "source": []
  }
 ],
 "metadata": {
  "kernelspec": {
   "display_name": "Python 3 (ipykernel)",
   "language": "python",
   "name": "python3"
  },
  "language_info": {
   "codemirror_mode": {
    "name": "ipython",
    "version": 3
   },
   "file_extension": ".py",
   "mimetype": "text/x-python",
   "name": "python",
   "nbconvert_exporter": "python",
   "pygments_lexer": "ipython3",
   "version": "3.10.6"
  }
 },
 "nbformat": 4,
 "nbformat_minor": 5
}
